{
 "cells": [
  {
   "cell_type": "markdown",
   "metadata": {},
   "source": [
    "# MMDS Course Project: System Detecting Bots"
   ]
  },
  {
   "cell_type": "markdown",
   "metadata": {},
   "source": [
    "## Make sure the notebook is connected to http server where jupyter/pyspark-notebook docker container runs\n",
    "1. Download the docker image\n",
    "> docker pull jupyter/pyspark-notebook\n",
    "2. Start the container by mounting the project folder \"./mount\" to default folder within the container \"/home/jovyan/work\"\n",
    "> docker run -it --rm -p 8888:8888 -v ./mount:/home/jovyan/work jupyter/pyspark-notebook\n",
    "3. Add the localhost:8888 to the jupyter kernels and connect the notebook"
   ]
  },
  {
   "cell_type": "markdown",
   "metadata": {},
   "source": [
    "## Install the necessary modules inside on the docker container"
   ]
  },
  {
   "cell_type": "code",
   "execution_count": null,
   "metadata": {},
   "outputs": [],
   "source": [
    "!pip install numpy==1.23.5 pandas==1.5.3 scikit-learn==1.2.2 seaborn==0.12.2 ipykernel==6.25.2 sseclient==0.0.27 tqdm==4.65.0 yellowbrick==1.4"
   ]
  },
  {
   "cell_type": "code",
   "execution_count": 55,
   "metadata": {},
   "outputs": [],
   "source": [
    "import numpy as np\n",
    "import pandas as pd\n",
    "import matplotlib.pyplot as plt\n",
    "import seaborn as sns\n",
    "from sklearn.model_selection import train_test_split\n",
    "from sklearn.ensemble import RandomForestClassifier\n",
    "from sklearn.metrics import ConfusionMatrixDisplay\n",
    "from sklearn.feature_extraction.text import TfidfVectorizer, CountVectorizer\n",
    "from yellowbrick.model_selection import FeatureImportances\n",
    "\n",
    "import argparse\n",
    "import json\n",
    "from csv import DictWriter\n",
    "from sseclient import SSEClient as EventSource\n",
    "from tqdm import tqdm\n",
    "from datetime import datetime, timedelta\n",
    "from typing import Generator, Dict\n",
    "from pandas import DataFrame"
   ]
  },
  {
   "cell_type": "markdown",
   "metadata": {},
   "source": [
    "## Sampling from Wikimedia Recent Changes stream"
   ]
  },
  {
   "cell_type": "code",
   "execution_count": 44,
   "metadata": {},
   "outputs": [],
   "source": [
    "past_datetime = datetime.now() - timedelta(weeks=2)\n",
    "since_timestamp = int(past_datetime.timestamp() * 1000)\n",
    "URL = f'https://stream.wikimedia.org/v2/stream/recentchange?since={since_timestamp}'\n",
    "SAMPLE_FILE = f\"./sampled_events_id.csv\""
   ]
  },
  {
   "cell_type": "markdown",
   "metadata": {},
   "source": [
    "### Definitions"
   ]
  },
  {
   "cell_type": "code",
   "execution_count": 43,
   "metadata": {},
   "outputs": [],
   "source": [
    "def is_relevant_event(event: Dict, wiki='enwiki') -> bool:\n",
    "    \"\"\"\n",
    "    Checks if the event is relevant for sampling, i.e., it is an edit made by a bot on the specified wiki topic.\n",
    "\n",
    "    Args:\n",
    "    - event (dict): The event data.\n",
    "    - wiki (str): The wiki to filter for (default is 'enwiki').\n",
    "\n",
    "    Returns:\n",
    "    - bool: True if the event is an edit by a bot in the specified wiki, False otherwise.\n",
    "    \"\"\"\n",
    "    return  event.get('type') != None and event.get('type') == 'edit' and event.get('wiki') == wiki\n",
    "\n",
    "\n",
    "def should_sample_event(event: Dict, sample_by: str, threshold: float = 0.2) -> bool:\n",
    "    \"\"\"\n",
    "    Determines if an event should be sampled based on threshold.\n",
    "\n",
    "    Args:\n",
    "    - event (dict): The event data containing fields for sampling.\n",
    "    - sample_by (str): The event field we sample by.\n",
    "    - threshold (float): Probability threshold for sampling (default: 0.2 for 20%).\n",
    "\n",
    "    Returns:\n",
    "    - bool: True if the event should be sampled, False otherwise.\n",
    "    \"\"\"\n",
    "    sample_by_value = event.get(sample_by, \"\")\n",
    "    if sample_by_value == \"\":\n",
    "        return False\n",
    "\n",
    "    time_hash_val = abs(hash(sample_by_value)) % 100 / 100\n",
    "    return time_hash_val < threshold\n",
    "\n",
    "\n",
    "def write_event_to_csv(writer: DictWriter, event):\n",
    "    \"\"\"\n",
    "    Writes a single event to the CSV file.\n",
    "\n",
    "    Args:\n",
    "    - writer (csv.DictWriter): The CSV writer object.\n",
    "    - event (dict): The event data to be written.\n",
    "    \"\"\"\n",
    "    row = {\n",
    "        'bot': event['bot'],\n",
    "        'user': event['user'],\n",
    "        'timestamp': event['timestamp'],\n",
    "        'namespace': event['namespace'],\n",
    "        'title': event['title'],\n",
    "        'comment': event.get('comment', ''),\n",
    "        'length_old': event['length']['old'],\n",
    "        'length_new': event['length']['new'],\n",
    "        'revision_old': event['revision']['old'],\n",
    "        'revision_new': event['revision']['new'],\n",
    "    }\n",
    "    writer.writerow(row)\n",
    "\n",
    "\n",
    "def subscribe_to_stream(url: str, wiki: str='enwiki') -> Generator[Dict, None, None]:\n",
    "    \"\"\"\n",
    "    Subscribes to the Wikimedia recent changes stream and yields relevant events.\n",
    "\n",
    "    Args:\n",
    "    - url (str): The URL of the Wikimedia recent changes stream.\n",
    "    - wiki (str): The wiki to filter for (default is 'enwiki').\n",
    "\n",
    "    Yields:\n",
    "    - dict: A dictionary representing a relevant bot edit event.\n",
    "    \"\"\"\n",
    "    for event in EventSource(url):\n",
    "        if event.event == 'message':\n",
    "            try:\n",
    "                change = json.loads(event.data)\n",
    "            except ValueError:\n",
    "                continue\n",
    "\n",
    "            if is_relevant_event(change, wiki=wiki):\n",
    "                yield change\n",
    "\n",
    "\n",
    "def sample_to_csv(events: Generator, output_file: str, sample_by: str, threshold: float=0.2, sample_limit: int=40000):\n",
    "    \"\"\"\n",
    "    Samples events and writes them to a CSV file up to a specified limit.\n",
    "\n",
    "    Args:\n",
    "    - events (iterable): An iterable of events to be sampled.\n",
    "    - output_file (str): The filename for the output CSV file.\n",
    "    - interval_size (int): The size of the time interval in seconds (60 seconds by default).\n",
    "    - threshold (float): Probability threshold for sampling (0.2 for 20%).\n",
    "    - sample_limit (int): The maximum number of samples to collect.\n",
    "    \"\"\"\n",
    "    csv_fields = ['bot', 'user', 'timestamp', 'namespace', 'title', 'comment', 'length_old', 'length_new', 'revision_old', 'revision_new']\n",
    "    \n",
    "    with open(output_file, mode='w', newline='', encoding='utf-8') as csv_file:\n",
    "        writer = DictWriter(csv_file, fieldnames=csv_fields)\n",
    "        writer.writeheader()\n",
    "\n",
    "        sample_count = 0\n",
    "        with tqdm(total=sample_limit, desc=f\"Sampling {threshold*100:.0f}%\", unit=\"sample\", miniters=1) as prog_bar:\n",
    "            for event in events:\n",
    "                if sample_count >= sample_limit:\n",
    "                    break\n",
    "\n",
    "                if should_sample_event(event, sample_by, threshold):\n",
    "                    write_event_to_csv(writer, event)\n",
    "                    sample_count += 1\n",
    "                    prog_bar.update(1)\n",
    "\n",
    "    print(f\"Sampling complete. {sample_count} edits written to {output_file}\")\n"
   ]
  },
  {
   "cell_type": "markdown",
   "metadata": {},
   "source": [
    "### Run Sampling"
   ]
  },
  {
   "cell_type": "code",
   "execution_count": null,
   "metadata": {},
   "outputs": [],
   "source": [
    "events = subscribe_to_stream(URL, wiki='enwiki')\n",
    "sample_to_csv(\n",
    "    events = events,\n",
    "    output_file = SAMPLE_FILE,\n",
    "    sample_by = \"id\",\n",
    "    threshold = 0.2,\n",
    "    sample_limit = 40000\n",
    ")"
   ]
  },
  {
   "cell_type": "markdown",
   "metadata": {},
   "source": [
    "## Train and test Random Forest Classifier for binary classification of Bot vs Human"
   ]
  },
  {
   "cell_type": "markdown",
   "metadata": {},
   "source": [
    "### Data preparation"
   ]
  },
  {
   "cell_type": "code",
   "execution_count": 35,
   "metadata": {},
   "outputs": [],
   "source": [
    "count_vectorizer = CountVectorizer()\n",
    "tfidf_vectorizer = TfidfVectorizer()"
   ]
  },
  {
   "cell_type": "code",
   "execution_count": 48,
   "metadata": {},
   "outputs": [],
   "source": [
    "def preprocess(data: DataFrame) -> DataFrame:\n",
    "    \"\"\"\n",
    "    Preprocesses the data by applying count vectorization and TF-IDF transformation.\n",
    "\n",
    "    Args:\n",
    "    - data (DataFrame): The input data.\n",
    "\n",
    "    Returns:\n",
    "    - DataFrame: The same data frame object with new pre-processed columns.\n",
    "    \"\"\"\n",
    "    data['timestamp2'] = pd.to_datetime(data['timestamp'], unit='s')\n",
    "    data['hour_num'] = data['timestamp2'].dt.hour\n",
    "    data['namespace_num'] = data['namespace'].fillna(-1)\n",
    "    data['comment'] = data['comment'].fillna('no comment')\n",
    "    data['comment_len_num'] = data['comment'].apply(len)\n",
    "    data['comment_word_num'] = data['comment'].apply(lambda x: len(x.split()))\n",
    "    data['comment_count_vec_num'] = count_vectorizer.fit_transform(data['comment']).sum(axis=1)\n",
    "    data['comment_tfidf_num'] = tfidf_vectorizer.fit_transform(data['comment']).sum(axis=1)\n",
    "    data['bot_num'] = data['bot'].apply(lambda x : 1 if x == True else 0)\n",
    "\n",
    "    return data\n",
    "\n",
    "data = preprocess(pd.read_csv(SAMPLE_FILE, parse_dates=['timestamp']))"
   ]
  },
  {
   "cell_type": "markdown",
   "metadata": {},
   "source": [
    "### Distribution between humans and bots in the sample dataset"
   ]
  },
  {
   "cell_type": "code",
   "execution_count": 70,
   "metadata": {},
   "outputs": [
    {
     "name": "stdout",
     "output_type": "stream",
     "text": [
      "False    30639\n",
      "True      9361\n",
      "Name: bot, dtype: int64\n"
     ]
    },
    {
     "data": {
      "text/plain": [
       "<Axes: title={'center': 'True Bots vs Humans Samples'}>"
      ]
     },
     "execution_count": 70,
     "metadata": {},
     "output_type": "execute_result"
    },
    {
     "data": {
      "image/png": "[encoded data removed]",
      "text/plain": [
       "<Figure size 800x550 with 1 Axes>"
      ]
     },
     "metadata": {},
     "output_type": "display_data"
    }
   ],
   "source": [
    "print(data['bot'].value_counts())\n",
    "data['bot'].value_counts().plot(kind='bar', title='True Bots vs Humans Samples', color=['green', 'red'])\n"
   ]
  },
  {
   "cell_type": "markdown",
   "metadata": {},
   "source": [
    "### Model training and evaluation"
   ]
  },
  {
   "cell_type": "code",
   "execution_count": 51,
   "metadata": {},
   "outputs": [
    {
     "name": "stdout",
     "output_type": "stream",
     "text": [
      "32000\n",
      "8000\n"
     ]
    }
   ],
   "source": [
    "\n",
    "y = data['bot_num']\n",
    "X = data[['comment_len_num', 'comment_word_num', 'comment_count_vec_num', \n",
    "          'comment_tfidf_num', 'namespace_num', 'hour_num'\n",
    "        ]]\n",
    "X_train, X_test, y_train, y_test = train_test_split(X, y, test_size=0.2)\n",
    "print(len(X_train))\n",
    "print(len(X_test))"
   ]
  },
  {
   "cell_type": "code",
   "execution_count": 71,
   "metadata": {},
   "outputs": [
    {
     "data": {
      "text/plain": [
       "pandas.core.series.Series"
      ]
     },
     "execution_count": 71,
     "metadata": {},
     "output_type": "execute_result"
    }
   ],
   "source": [
    "type(y_test)"
   ]
  },
  {
   "cell_type": "code",
   "execution_count": 52,
   "metadata": {},
   "outputs": [],
   "source": [
    "clf = RandomForestClassifier(max_depth=10, n_estimators=100,random_state=0)\n",
    "clf = clf.fit(X_train, y_train)"
   ]
  },
  {
   "cell_type": "code",
   "execution_count": 53,
   "metadata": {},
   "outputs": [
    {
     "name": "stdout",
     "output_type": "stream",
     "text": [
      "Accuracy: 97.40%\n"
     ]
    }
   ],
   "source": [
    "accuracy = clf.score(X_test, y_test)\n",
    "print(f\"Accuracy: {accuracy*100:.2f}%\")"
   ]
  },
  {
   "cell_type": "code",
   "execution_count": 54,
   "metadata": {},
   "outputs": [
    {
     "name": "stderr",
     "output_type": "stream",
     "text": [
      "/opt/miniconda3/envs/mmds-env/lib/python3.10/site-packages/sklearn/base.py:493: UserWarning: X does not have valid feature names, but RandomForestClassifier was fitted with feature names\n",
      "  warnings.warn(\n"
     ]
    },
    {
     "data": {
      "image/png": "[encoded data removed]",
      "text/plain": [
       "<Figure size 800x550 with 1 Axes>"
      ]
     },
     "metadata": {},
     "output_type": "display_data"
    },
    {
     "data": {
      "text/plain": [
       "<Axes: title={'center': 'Feature Importances of 6 Features using RandomForestClassifier'}, xlabel='relative importance'>"
      ]
     },
     "execution_count": 54,
     "metadata": {},
     "output_type": "execute_result"
    }
   ],
   "source": [
    "viz = FeatureImportances(clf)\n",
    "viz.fit(X_train, y_train)\n",
    "viz.show()"
   ]
  },
  {
   "cell_type": "code",
   "execution_count": 57,
   "metadata": {},
   "outputs": [
    {
     "data": {
      "text/plain": [
       "<sklearn.metrics._plot.confusion_matrix.ConfusionMatrixDisplay at 0x161a7aa40>"
      ]
     },
     "execution_count": 57,
     "metadata": {},
     "output_type": "execute_result"
    },
    {
     "data": {
      "image/png": "[encoded data removed]",
      "text/plain": [
       "<Figure size 800x550 with 2 Axes>"
      ]
     },
     "metadata": {},
     "output_type": "display_data"
    }
   ],
   "source": [
    "y_pred = clf.predict(X_test)\n",
    "ConfusionMatrixDisplay.from_predictions(y_test, y_pred, cmap=plt.cm.Blues)"
   ]
  },
  {
   "cell_type": "code",
   "execution_count": 62,
   "metadata": {},
   "outputs": [
    {
     "name": "stdout",
     "output_type": "stream",
     "text": [
      "Misclassified: 208\n",
      "FN: 198\n",
      "FP: 10\n"
     ]
    }
   ],
   "source": [
    "misclassified_indices = np.where(y_test != y_pred)[0]\n",
    "print('Misclassified:', len(misclassified_indices))\n",
    "FN = np.where((y_test == True) & (y_pred == False))[0]\n",
    "print('FN:', len(FN))\n",
    "FP = np.where((y_test == False) & (y_pred == True))[0]\n",
    "print('FP:', len(FP))\n"
   ]
  },
  {
   "cell_type": "markdown",
   "metadata": {},
   "source": [
    "## Finally, train a Bloom Filter that filter out bots from the stream.*\n",
    "- *Find the correct parameters for the bloom filter having an error around 10%*"
   ]
  },
  {
   "cell_type": "markdown",
   "metadata": {},
   "source": [
    "Bloom filter is characterized by:\n",
    "- size of a bit array ($m$)\n",
    "- number of hash functions\n",
    "\n",
    "where optimal $m$ can be calculated as:\n",
    "$$m=-\\frac{n*ln(p)}{ln(2)^{2}}$$\n",
    ",where n is a number of items (bots in our case)\\\n",
    "and number of hash functions as:\n",
    "$$k=\\frac{m}{n}ln(2)$$\n",
    "\n",
    "So, for the training to start we need to evaluate a number of bots from our sample."
   ]
  },
  {
   "cell_type": "code",
   "execution_count": 1,
   "metadata": {},
   "outputs": [],
   "source": [
    "import pandas as pd\n",
    "\n",
    "def count_true_rows(file_path: str) -> int:\n",
    "    # Load the CSV file\n",
    "    df = pd.read_csv(file_path)\n",
    "\n",
    "    # Count rows where 'flag' is True\n",
    "    count_true = df['bot'].sum() if 'bot' in df else 0\n",
    "\n",
    "    return count_true"
   ]
  },
  {
   "cell_type": "code",
   "execution_count": 4,
   "metadata": {},
   "outputs": [
    {
     "name": "stdout",
     "output_type": "stream",
     "text": [
      "for n=9361 array size (m) is 44862.86573526829, k is 3.3219280948873617\n",
      "for n=9138 array size (m) is 43794.13172619182, k is 3.3219280948873617\n"
     ]
    }
   ],
   "source": [
    "import numpy as np\n",
    "\n",
    "p = 0.1  # 10% error rate\n",
    "\n",
    "n = count_true_rows('./sampled_events_id.csv')\n",
    "m = - n * np.log(p) / np.log(2)**2\n",
    "k = np.log(2) * m / n\n",
    "\n",
    "print(f\"for n={n} array size (m) is {m}, k is {k}\")\n",
    "\n",
    "n = count_true_rows('./sampled_events_timestamp.csv')\n",
    "m = - n * np.log(p) / np.log(2)**2\n",
    "k = np.log(2) * m / n\n",
    "\n",
    "print(f\"for n={n} array size (m) is {m}, k is {k}\")"
   ]
  },
  {
   "cell_type": "markdown",
   "metadata": {},
   "source": [
    "So, ~44kb array and 3 hash functions are sufficient to store a bloom filter trained with 40k samples."
   ]
  },
  {
   "cell_type": "code",
   "execution_count": null,
   "metadata": {},
   "outputs": [],
   "source": [
    "import hashlib\n",
    "\n",
    "def hashes(value, num_hashes, size):\n",
    "    h1 =  int(hashlib.md5(value.encode()).hexdigest(), 16) % size\n",
    "    h2 =  int(hashlib.sha256(value.encode()).hexdigest(), 16) % size\n",
    "    if h2 == 0:\n",
    "        h2 = 1\n",
    "    return [(h1 + i * h2) % size for i in range(num_hashes)]\n",
    "\n",
    "class BloomFilter:\n",
    "    def __init__(self, size: int, hash_count: int):\n",
    "        self.size = size\n",
    "        self.hash_count = hash_count\n",
    "        self.bit_array = [0] * size\n",
    "\n",
    "    def add(self, item: str):\n",
    "        for index in hashes(item, self.hash_count, self.size):\n",
    "            self.bit_array[index] = 1\n",
    "\n",
    "    def add_all(self, items: list):\n",
    "        for item in items:\n",
    "            self.add(item)\n",
    "\n",
    "    def contains(self, item: str) -> bool:\n",
    "        for index in hashes(item, self.hash_count, self.size):\n",
    "            if self.bit_array[index] == 0:\n",
    "                return False\n",
    "        return True\n"
   ]
  },
  {
   "cell_type": "code",
   "execution_count": null,
   "metadata": {},
   "outputs": [],
   "source": [
    "df = pd.read_csv('ucu-mmds/src/homework2/sampled_events_id.csv')\n",
    "\n",
    "filter = BloomFilter(int(m), int(k)+1)\n",
    "filter.add_all(df['user'].to_list())"
   ]
  },
  {
   "cell_type": "code",
   "execution_count": null,
   "metadata": {},
   "outputs": [
    {
     "name": "stdout",
     "output_type": "stream",
     "text": [
      "True\n",
      "False\n"
     ]
    }
   ],
   "source": [
    "print(filter.contains(df['user'][3]))  # True\n",
    "print(filter.contains('$@@##'))  # True"
   ]
  }
 ],
 "metadata": {
  "kernelspec": {
   "display_name": "mmds-env",
   "language": "python",
   "name": "python3"
  },
  "language_info": {
   "codemirror_mode": {
    "name": "ipython",
    "version": 3
   },
   "file_extension": ".py",
   "mimetype": "text/x-python",
   "name": "python",
   "nbconvert_exporter": "python",
   "pygments_lexer": "ipython3",
   "version": "3.10.14"
  }
 },
 "nbformat": 4,
 "nbformat_minor": 2
}

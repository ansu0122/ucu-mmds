{
 "cells": [
  {
   "cell_type": "markdown",
   "metadata": {},
   "source": [
    "# MMDS Course Project: System Detecting Bots"
   ]
  },
  {
   "cell_type": "markdown",
   "metadata": {},
   "source": [
    "## Make sure the notebook is connected to http server where jupyter/pyspark-notebook docker container runs\n",
    "1. Download the docker image\n",
    "> docker pull jupyter/pyspark-notebook\n",
    "2. Start the container by mounting the project folder \"./mount\" to default folder within the container \"/home/jovyan/work\"\n",
    "> docker run -it --rm -p 8888:8888 -v ./mount:/home/jovyan/work jupyter/pyspark-notebook\n",
    "3. Add the localhost:8888 to the jupyter kernels and connect the notebook"
   ]
  },
  {
   "cell_type": "markdown",
   "metadata": {},
   "source": [
    "move to the mounted directory inside the container"
   ]
  },
  {
   "cell_type": "code",
   "execution_count": 7,
   "metadata": {},
   "outputs": [
    {
     "name": "stdout",
     "output_type": "stream",
     "text": [
      "/home/jovyan/work\n"
     ]
    }
   ],
   "source": [
    "cd /home/jovyan/work"
   ]
  },
  {
   "cell_type": "markdown",
   "metadata": {},
   "source": [
    "## Install the necessary modules inside on the docker container"
   ]
  },
  {
   "cell_type": "code",
   "execution_count": 4,
   "metadata": {},
   "outputs": [
    {
     "name": "stdout",
     "output_type": "stream",
     "text": [
      "Collecting pandas==2.2.3\n",
      "  Downloading pandas-2.2.3-cp311-cp311-manylinux2014_aarch64.manylinux_2_17_aarch64.whl.metadata (89 kB)\n",
      "\u001b[2K     \u001b[90m━━━━━━━━━━━━━━━━━━━━━━━━━━━━━━━━━━━━━━━\u001b[0m \u001b[32m89.9/89.9 kB\u001b[0m \u001b[31m146.8 kB/s\u001b[0m eta \u001b[36m0:00:00\u001b[0ma \u001b[36m0:00:01\u001b[0m\n",
      "\u001b[?25hCollecting scikit-learn==1.5.2\n",
      "  Downloading scikit_learn-1.5.2-cp311-cp311-manylinux_2_17_aarch64.manylinux2014_aarch64.whl.metadata (13 kB)\n",
      "Collecting seaborn==0.13.2\n",
      "  Downloading seaborn-0.13.2-py3-none-any.whl.metadata (5.4 kB)\n",
      "Collecting ipykernel==6.29.5\n",
      "  Downloading ipykernel-6.29.5-py3-none-any.whl.metadata (6.3 kB)\n",
      "Collecting sseclient==0.0.27\n",
      "  Downloading sseclient-0.0.27.tar.gz (7.5 kB)\n",
      "  Preparing metadata (setup.py) ... \u001b[?25ldone\n",
      "\u001b[?25hCollecting tqdm==4.65.0\n",
      "  Downloading tqdm-4.65.0-py3-none-any.whl.metadata (56 kB)\n",
      "\u001b[2K     \u001b[90m━━━━━━━━━━━━━━━━━━━━━━━━━━━━━━━━━━━━━━━\u001b[0m \u001b[32m57.0/57.0 kB\u001b[0m \u001b[31m478.6 kB/s\u001b[0m eta \u001b[36m0:00:00\u001b[0ma \u001b[36m0:00:01\u001b[0m\n",
      "\u001b[?25hCollecting yellowbrick==1.4\n",
      "  Downloading yellowbrick-1.4-py3-none-any.whl.metadata (7.6 kB)\n",
      "Requirement already satisfied: numpy>=1.23.2 in /opt/conda/lib/python3.11/site-packages (from pandas==2.2.3) (1.24.4)\n",
      "Requirement already satisfied: python-dateutil>=2.8.2 in /opt/conda/lib/python3.11/site-packages (from pandas==2.2.3) (2.8.2)\n",
      "Requirement already satisfied: pytz>=2020.1 in /opt/conda/lib/python3.11/site-packages (from pandas==2.2.3) (2023.3.post1)\n",
      "Requirement already satisfied: tzdata>=2022.7 in /opt/conda/lib/python3.11/site-packages (from pandas==2.2.3) (2023.3)\n",
      "Requirement already satisfied: scipy>=1.6.0 in /opt/conda/lib/python3.11/site-packages (from scikit-learn==1.5.2) (1.11.3)\n",
      "Requirement already satisfied: joblib>=1.2.0 in /opt/conda/lib/python3.11/site-packages (from scikit-learn==1.5.2) (1.3.2)\n",
      "Requirement already satisfied: threadpoolctl>=3.1.0 in /opt/conda/lib/python3.11/site-packages (from scikit-learn==1.5.2) (3.2.0)\n",
      "Requirement already satisfied: matplotlib!=3.6.1,>=3.4 in /opt/conda/lib/python3.11/site-packages (from seaborn==0.13.2) (3.8.0)\n",
      "Requirement already satisfied: comm>=0.1.1 in /opt/conda/lib/python3.11/site-packages (from ipykernel==6.29.5) (0.1.4)\n",
      "Requirement already satisfied: debugpy>=1.6.5 in /opt/conda/lib/python3.11/site-packages (from ipykernel==6.29.5) (1.8.0)\n",
      "Requirement already satisfied: ipython>=7.23.1 in /opt/conda/lib/python3.11/site-packages (from ipykernel==6.29.5) (8.16.1)\n",
      "Requirement already satisfied: jupyter-client>=6.1.12 in /opt/conda/lib/python3.11/site-packages (from ipykernel==6.29.5) (8.4.0)\n",
      "Requirement already satisfied: jupyter-core!=5.0.*,>=4.12 in /opt/conda/lib/python3.11/site-packages (from ipykernel==6.29.5) (5.4.0)\n",
      "Requirement already satisfied: matplotlib-inline>=0.1 in /opt/conda/lib/python3.11/site-packages (from ipykernel==6.29.5) (0.1.6)\n",
      "Requirement already satisfied: nest-asyncio in /opt/conda/lib/python3.11/site-packages (from ipykernel==6.29.5) (1.5.8)\n",
      "Requirement already satisfied: packaging in /opt/conda/lib/python3.11/site-packages (from ipykernel==6.29.5) (23.2)\n",
      "Requirement already satisfied: psutil in /opt/conda/lib/python3.11/site-packages (from ipykernel==6.29.5) (5.9.5)\n",
      "Requirement already satisfied: pyzmq>=24 in /opt/conda/lib/python3.11/site-packages (from ipykernel==6.29.5) (25.1.1)\n",
      "Requirement already satisfied: tornado>=6.1 in /opt/conda/lib/python3.11/site-packages (from ipykernel==6.29.5) (6.3.3)\n",
      "Requirement already satisfied: traitlets>=5.4.0 in /opt/conda/lib/python3.11/site-packages (from ipykernel==6.29.5) (5.11.2)\n",
      "Requirement already satisfied: requests>=2.9 in /opt/conda/lib/python3.11/site-packages (from sseclient==0.0.27) (2.31.0)\n",
      "Requirement already satisfied: six in /opt/conda/lib/python3.11/site-packages (from sseclient==0.0.27) (1.16.0)\n",
      "Requirement already satisfied: cycler>=0.10.0 in /opt/conda/lib/python3.11/site-packages (from yellowbrick==1.4) (0.12.1)\n",
      "Requirement already satisfied: backcall in /opt/conda/lib/python3.11/site-packages (from ipython>=7.23.1->ipykernel==6.29.5) (0.2.0)\n",
      "Requirement already satisfied: decorator in /opt/conda/lib/python3.11/site-packages (from ipython>=7.23.1->ipykernel==6.29.5) (5.1.1)\n",
      "Requirement already satisfied: jedi>=0.16 in /opt/conda/lib/python3.11/site-packages (from ipython>=7.23.1->ipykernel==6.29.5) (0.19.1)\n",
      "Requirement already satisfied: pickleshare in /opt/conda/lib/python3.11/site-packages (from ipython>=7.23.1->ipykernel==6.29.5) (0.7.5)\n",
      "Requirement already satisfied: prompt-toolkit!=3.0.37,<3.1.0,>=3.0.30 in /opt/conda/lib/python3.11/site-packages (from ipython>=7.23.1->ipykernel==6.29.5) (3.0.39)\n",
      "Requirement already satisfied: pygments>=2.4.0 in /opt/conda/lib/python3.11/site-packages (from ipython>=7.23.1->ipykernel==6.29.5) (2.16.1)\n",
      "Requirement already satisfied: stack-data in /opt/conda/lib/python3.11/site-packages (from ipython>=7.23.1->ipykernel==6.29.5) (0.6.2)\n",
      "Requirement already satisfied: pexpect>4.3 in /opt/conda/lib/python3.11/site-packages (from ipython>=7.23.1->ipykernel==6.29.5) (4.8.0)\n",
      "Requirement already satisfied: platformdirs>=2.5 in /opt/conda/lib/python3.11/site-packages (from jupyter-core!=5.0.*,>=4.12->ipykernel==6.29.5) (3.11.0)\n",
      "Requirement already satisfied: contourpy>=1.0.1 in /opt/conda/lib/python3.11/site-packages (from matplotlib!=3.6.1,>=3.4->seaborn==0.13.2) (1.1.1)\n",
      "Requirement already satisfied: fonttools>=4.22.0 in /opt/conda/lib/python3.11/site-packages (from matplotlib!=3.6.1,>=3.4->seaborn==0.13.2) (4.43.1)\n",
      "Requirement already satisfied: kiwisolver>=1.0.1 in /opt/conda/lib/python3.11/site-packages (from matplotlib!=3.6.1,>=3.4->seaborn==0.13.2) (1.4.5)\n",
      "Requirement already satisfied: pillow>=6.2.0 in /opt/conda/lib/python3.11/site-packages (from matplotlib!=3.6.1,>=3.4->seaborn==0.13.2) (10.1.0)\n",
      "Requirement already satisfied: pyparsing>=2.3.1 in /opt/conda/lib/python3.11/site-packages (from matplotlib!=3.6.1,>=3.4->seaborn==0.13.2) (3.1.1)\n",
      "Requirement already satisfied: charset-normalizer<4,>=2 in /opt/conda/lib/python3.11/site-packages (from requests>=2.9->sseclient==0.0.27) (3.3.0)\n",
      "Requirement already satisfied: idna<4,>=2.5 in /opt/conda/lib/python3.11/site-packages (from requests>=2.9->sseclient==0.0.27) (3.4)\n",
      "Requirement already satisfied: urllib3<3,>=1.21.1 in /opt/conda/lib/python3.11/site-packages (from requests>=2.9->sseclient==0.0.27) (2.0.7)\n",
      "Requirement already satisfied: certifi>=2017.4.17 in /opt/conda/lib/python3.11/site-packages (from requests>=2.9->sseclient==0.0.27) (2023.7.22)\n",
      "Requirement already satisfied: parso<0.9.0,>=0.8.3 in /opt/conda/lib/python3.11/site-packages (from jedi>=0.16->ipython>=7.23.1->ipykernel==6.29.5) (0.8.3)\n",
      "Requirement already satisfied: ptyprocess>=0.5 in /opt/conda/lib/python3.11/site-packages (from pexpect>4.3->ipython>=7.23.1->ipykernel==6.29.5) (0.7.0)\n",
      "Requirement already satisfied: wcwidth in /opt/conda/lib/python3.11/site-packages (from prompt-toolkit!=3.0.37,<3.1.0,>=3.0.30->ipython>=7.23.1->ipykernel==6.29.5) (0.2.8)\n",
      "Requirement already satisfied: executing>=1.2.0 in /opt/conda/lib/python3.11/site-packages (from stack-data->ipython>=7.23.1->ipykernel==6.29.5) (1.2.0)\n",
      "Requirement already satisfied: asttokens>=2.1.0 in /opt/conda/lib/python3.11/site-packages (from stack-data->ipython>=7.23.1->ipykernel==6.29.5) (2.4.0)\n",
      "Requirement already satisfied: pure-eval in /opt/conda/lib/python3.11/site-packages (from stack-data->ipython>=7.23.1->ipykernel==6.29.5) (0.2.2)\n",
      "Downloading pandas-2.2.3-cp311-cp311-manylinux2014_aarch64.manylinux_2_17_aarch64.whl (15.6 MB)\n",
      "\u001b[2K   \u001b[90m━━━━━━━━━━━━━━━━━━━━━━━━━━━━━━━━━━━━━━━━\u001b[0m \u001b[32m15.6/15.6 MB\u001b[0m \u001b[31m1.1 MB/s\u001b[0m eta \u001b[36m0:00:00\u001b[0m00:01\u001b[0m00:01\u001b[0m0m\n",
      "\u001b[?25hDownloading scikit_learn-1.5.2-cp311-cp311-manylinux_2_17_aarch64.manylinux2014_aarch64.whl (12.5 MB)\n",
      "\u001b[2K   \u001b[90m━━━━━━━━━━━━━━━━━━━━━━━━━━━━━━━━━━━━━━━━\u001b[0m \u001b[32m12.5/12.5 MB\u001b[0m \u001b[31m1.2 MB/s\u001b[0m eta \u001b[36m0:00:00\u001b[0m00:01\u001b[0m00:01\u001b[0mm\n",
      "\u001b[?25hDownloading seaborn-0.13.2-py3-none-any.whl (294 kB)\n",
      "\u001b[2K   \u001b[90m━━━━━━━━━━━━━━━━━━━━━━━━━━━━━━━━━━━━━━━━\u001b[0m \u001b[32m294.9/294.9 kB\u001b[0m \u001b[31m1.2 MB/s\u001b[0m eta \u001b[36m0:00:00\u001b[0ma \u001b[36m0:00:01\u001b[0m\n",
      "\u001b[?25hDownloading ipykernel-6.29.5-py3-none-any.whl (117 kB)\n",
      "\u001b[2K   \u001b[90m━━━━━━━━━━━━━━━━━━━━━━━━━━━━━━━━━━━━━━━━\u001b[0m \u001b[32m117.2/117.2 kB\u001b[0m \u001b[31m1.2 MB/s\u001b[0m eta \u001b[36m0:00:00\u001b[0m \u001b[36m0:00:01\u001b[0m\n",
      "\u001b[?25hDownloading tqdm-4.65.0-py3-none-any.whl (77 kB)\n",
      "\u001b[2K   \u001b[90m━━━━━━━━━━━━━━━━━━━━━━━━━━━━━━━━━━━━━━━━\u001b[0m \u001b[32m77.1/77.1 kB\u001b[0m \u001b[31m783.7 kB/s\u001b[0m eta \u001b[36m0:00:00\u001b[0ma \u001b[36m0:00:01\u001b[0m\n",
      "\u001b[?25hDownloading yellowbrick-1.4-py3-none-any.whl (274 kB)\n",
      "\u001b[2K   \u001b[90m━━━━━━━━━━━━━━━━━━━━━━━━━━━━━━━━━━━━━━━━\u001b[0m \u001b[32m274.2/274.2 kB\u001b[0m \u001b[31m1.1 MB/s\u001b[0m eta \u001b[36m0:00:00\u001b[0ma \u001b[36m0:00:01\u001b[0m\n",
      "\u001b[?25hBuilding wheels for collected packages: sseclient\n",
      "  Building wheel for sseclient (setup.py) ... \u001b[?25ldone\n",
      "\u001b[?25h  Created wheel for sseclient: filename=sseclient-0.0.27-py3-none-any.whl size=5562 sha256=13505966239e99fdd38c92ce21243159fefe4570bca7729d4d82b4bece708148\n",
      "  Stored in directory: /home/jovyan/.cache/pip/wheels/7c/54/eb/a223b1599728ecaf0528281c17c96c503aa7d18a752a4e4e3a\n",
      "Successfully built sseclient\n",
      "Installing collected packages: tqdm, sseclient, scikit-learn, pandas, yellowbrick, seaborn, ipykernel\n",
      "  Attempting uninstall: tqdm\n",
      "    Found existing installation: tqdm 4.66.1\n",
      "    Uninstalling tqdm-4.66.1:\n",
      "      Successfully uninstalled tqdm-4.66.1\n",
      "  Attempting uninstall: scikit-learn\n",
      "    Found existing installation: scikit-learn 1.3.1\n",
      "    Uninstalling scikit-learn-1.3.1:\n",
      "      Successfully uninstalled scikit-learn-1.3.1\n",
      "  Attempting uninstall: pandas\n",
      "    Found existing installation: pandas 2.0.3\n",
      "    Uninstalling pandas-2.0.3:\n",
      "      Successfully uninstalled pandas-2.0.3\n",
      "  Attempting uninstall: seaborn\n",
      "    Found existing installation: seaborn 0.13.0\n",
      "    Uninstalling seaborn-0.13.0:\n",
      "      Successfully uninstalled seaborn-0.13.0\n",
      "  Attempting uninstall: ipykernel\n",
      "    Found existing installation: ipykernel 6.25.2\n",
      "    Uninstalling ipykernel-6.25.2:\n",
      "      Successfully uninstalled ipykernel-6.25.2\n",
      "Successfully installed ipykernel-6.29.5 pandas-2.2.3 scikit-learn-1.5.2 seaborn-0.13.2 sseclient-0.0.27 tqdm-4.65.0 yellowbrick-1.4\n"
     ]
    }
   ],
   "source": [
    "!pip install pandas==2.2.3 scikit-learn==1.5.2 seaborn==0.13.2 ipykernel==6.29.5 sseclient==0.0.27 tqdm==4.65.0 yellowbrick==1.4"
   ]
  },
  {
   "cell_type": "code",
   "execution_count": 8,
   "metadata": {},
   "outputs": [],
   "source": [
    "import numpy as np\n",
    "import pandas as pd\n",
    "import matplotlib.pyplot as plt\n",
    "import seaborn as sns\n",
    "from sklearn.model_selection import train_test_split\n",
    "from sklearn.ensemble import RandomForestClassifier\n",
    "from sklearn.metrics import ConfusionMatrixDisplay, classification_report\n",
    "from sklearn.feature_extraction.text import TfidfVectorizer, CountVectorizer\n",
    "from yellowbrick.model_selection import FeatureImportances\n",
    "\n",
    "import argparse\n",
    "import json\n",
    "from csv import DictWriter\n",
    "from sseclient import SSEClient as EventSource\n",
    "from tqdm import tqdm\n",
    "from datetime import datetime, timedelta\n",
    "from typing import Generator, Dict\n",
    "from pandas import DataFrame, Series"
   ]
  },
  {
   "cell_type": "markdown",
   "metadata": {},
   "source": [
    "## Sampling from Wikimedia Recent Changes stream"
   ]
  },
  {
   "cell_type": "code",
   "execution_count": 13,
   "metadata": {},
   "outputs": [],
   "source": [
    "past_datetime = datetime.now() - timedelta(weeks=2)\n",
    "since_timestamp = int(past_datetime.timestamp() * 1000)\n",
    "URL = f'https://stream.wikimedia.org/v2/stream/recentchange?since={since_timestamp}'\n",
    "SAMPLE_FILE = f\"./sampled_events_id.csv\""
   ]
  },
  {
   "cell_type": "markdown",
   "metadata": {},
   "source": [
    "### Definitions"
   ]
  },
  {
   "cell_type": "code",
   "execution_count": 9,
   "metadata": {},
   "outputs": [],
   "source": [
    "def is_relevant_event(event: Dict, wiki='enwiki') -> bool:\n",
    "    \"\"\"\n",
    "    Checks if the event is relevant for sampling, i.e., it is an edit made by a bot on the specified wiki topic.\n",
    "\n",
    "    Args:\n",
    "    - event (dict): The event data.\n",
    "    - wiki (str): The wiki to filter for (default is 'enwiki').\n",
    "\n",
    "    Returns:\n",
    "    - bool: True if the event is an edit by a bot in the specified wiki, False otherwise.\n",
    "    \"\"\"\n",
    "    return  event.get('type') != None and event.get('type') == 'edit' and event.get('wiki') == wiki\n",
    "\n",
    "\n",
    "def should_sample_event(event: Dict, sample_by: str, threshold: float = 0.2) -> bool:\n",
    "    \"\"\"\n",
    "    Determines if an event should be sampled based on threshold.\n",
    "\n",
    "    Args:\n",
    "    - event (dict): The event data containing fields for sampling.\n",
    "    - sample_by (str): The event field we sample by.\n",
    "    - threshold (float): Probability threshold for sampling (default: 0.2 for 20%).\n",
    "\n",
    "    Returns:\n",
    "    - bool: True if the event should be sampled, False otherwise.\n",
    "    \"\"\"\n",
    "    sample_by_value = event.get(sample_by, \"\")\n",
    "    if sample_by_value == \"\":\n",
    "        return False\n",
    "\n",
    "    time_hash_val = abs(hash(sample_by_value)) % 100 / 100\n",
    "    return time_hash_val < threshold\n",
    "\n",
    "\n",
    "def write_event_to_csv(writer: DictWriter, event):\n",
    "    \"\"\"\n",
    "    Writes a single event to the CSV file.\n",
    "\n",
    "    Args:\n",
    "    - writer (csv.DictWriter): The CSV writer object.\n",
    "    - event (dict): The event data to be written.\n",
    "    \"\"\"\n",
    "    row = {\n",
    "        'bot': event['bot'],\n",
    "        'user': event['user'],\n",
    "        'timestamp': event['timestamp'],\n",
    "        'namespace': event['namespace'],\n",
    "        'title': event['title'],\n",
    "        'comment': event.get('comment', ''),\n",
    "        'length_old': event['length']['old'],\n",
    "        'length_new': event['length']['new'],\n",
    "        'revision_old': event['revision']['old'],\n",
    "        'revision_new': event['revision']['new'],\n",
    "    }\n",
    "    writer.writerow(row)\n",
    "\n",
    "\n",
    "def subscribe_to_stream(url: str, wiki: str='enwiki') -> Generator[Dict, None, None]:\n",
    "    \"\"\"\n",
    "    Subscribes to the Wikimedia recent changes stream and yields relevant events.\n",
    "\n",
    "    Args:\n",
    "    - url (str): The URL of the Wikimedia recent changes stream.\n",
    "    - wiki (str): The wiki to filter for (default is 'enwiki').\n",
    "\n",
    "    Yields:\n",
    "    - dict: A dictionary representing a relevant bot edit event.\n",
    "    \"\"\"\n",
    "    for event in EventSource(url):\n",
    "        if event.event == 'message':\n",
    "            try:\n",
    "                change = json.loads(event.data)\n",
    "            except ValueError:\n",
    "                continue\n",
    "\n",
    "            if is_relevant_event(change, wiki=wiki):\n",
    "                yield change\n",
    "\n",
    "\n",
    "def sample_to_csv(events: Generator, output_file: str, sample_by: str, threshold: float=0.2, sample_limit: int=40000):\n",
    "    \"\"\"\n",
    "    Samples events and writes them to a CSV file up to a specified limit.\n",
    "\n",
    "    Args:\n",
    "    - events (iterable): An iterable of events to be sampled.\n",
    "    - output_file (str): The filename for the output CSV file.\n",
    "    - interval_size (int): The size of the time interval in seconds (60 seconds by default).\n",
    "    - threshold (float): Probability threshold for sampling (0.2 for 20%).\n",
    "    - sample_limit (int): The maximum number of samples to collect.\n",
    "    \"\"\"\n",
    "    csv_fields = ['bot', 'user', 'timestamp', 'namespace', 'title', 'comment', 'length_old', 'length_new', 'revision_old', 'revision_new']\n",
    "    \n",
    "    with open(output_file, mode='w', newline='', encoding='utf-8') as csv_file:\n",
    "        writer = DictWriter(csv_file, fieldnames=csv_fields)\n",
    "        writer.writeheader()\n",
    "\n",
    "        sample_count = 0\n",
    "        with tqdm(total=sample_limit, desc=f\"Sampling {threshold*100:.0f}%\", unit=\"sample\", miniters=1) as prog_bar:\n",
    "            for event in events:\n",
    "                if sample_count >= sample_limit:\n",
    "                    break\n",
    "\n",
    "                if should_sample_event(event, sample_by, threshold):\n",
    "                    write_event_to_csv(writer, event)\n",
    "                    sample_count += 1\n",
    "                    prog_bar.update(1)\n",
    "\n",
    "    print(f\"Sampling complete. {sample_count} edits written to {output_file}\")\n"
   ]
  },
  {
   "cell_type": "markdown",
   "metadata": {},
   "source": [
    "### Run Sampling"
   ]
  },
  {
   "cell_type": "code",
   "execution_count": 19,
   "metadata": {},
   "outputs": [
    {
     "name": "stderr",
     "output_type": "stream",
     "text": [
      "Sampling 20%:  61%|██████    | 24265/40000 [15:03<06:41, 39.18sample/s]  "
     ]
    },
    {
     "name": "stdout",
     "output_type": "stream",
     "text": [
      "\n"
     ]
    },
    {
     "name": "stderr",
     "output_type": "stream",
     "text": [
      "Sampling 20%: 100%|██████████| 40000/40000 [23:53<00:00, 27.91sample/s]  "
     ]
    },
    {
     "name": "stdout",
     "output_type": "stream",
     "text": [
      "Sampling complete. 40000 edits written to ./sampled_events_id.csv\n"
     ]
    },
    {
     "name": "stderr",
     "output_type": "stream",
     "text": [
      "\n"
     ]
    }
   ],
   "source": [
    "events = subscribe_to_stream(URL, wiki='enwiki')\n",
    "sample_to_csv(\n",
    "    events = events,\n",
    "    output_file = SAMPLE_FILE,\n",
    "    sample_by = \"id\",\n",
    "    threshold = 0.2,\n",
    "    sample_limit = 40000\n",
    ")"
   ]
  },
  {
   "cell_type": "markdown",
   "metadata": {},
   "source": [
    "## Train and test Random Forest Classifier for binary classification of Bot vs Human"
   ]
  },
  {
   "cell_type": "markdown",
   "metadata": {},
   "source": [
    "### Data preparation"
   ]
  },
  {
   "cell_type": "code",
   "execution_count": 14,
   "metadata": {},
   "outputs": [],
   "source": [
    "count_vectorizer = CountVectorizer()\n",
    "tfidf_vectorizer = TfidfVectorizer()"
   ]
  },
  {
   "cell_type": "code",
   "execution_count": 15,
   "metadata": {},
   "outputs": [
    {
     "name": "stderr",
     "output_type": "stream",
     "text": [
      "/tmp/ipykernel_642/3135632443.py:23: UserWarning: Could not infer format, so each element will be parsed individually, falling back to `dateutil`. To ensure parsing is consistent and as-expected, please specify a format.\n",
      "  data = preprocess(pd.read_csv(SAMPLE_FILE, parse_dates=['timestamp']))\n",
      "/tmp/ipykernel_642/3135632443.py:11: FutureWarning: The behavior of 'to_datetime' with 'unit' when parsing strings is deprecated. In a future version, strings will be parsed as datetime strings, matching the behavior without a 'unit'. To retain the old behavior, explicitly cast ints or floats to numeric type before calling to_datetime.\n",
      "  data['timestamp2'] = pd.to_datetime(data['timestamp'], unit='s')\n"
     ]
    }
   ],
   "source": [
    "def preprocess(data: DataFrame) -> DataFrame:\n",
    "    \"\"\"\n",
    "    Preprocesses the data by applying count vectorization and TF-IDF transformation.\n",
    "\n",
    "    Args:\n",
    "    - data (DataFrame): The input data.\n",
    "\n",
    "    Returns:\n",
    "    - DataFrame: The same data frame object with new pre-processed columns.\n",
    "    \"\"\"\n",
    "    data['timestamp2'] = pd.to_datetime(data['timestamp'], unit='s')\n",
    "    data['hour_num'] = data['timestamp2'].dt.hour\n",
    "    data['namespace_num'] = data['namespace'].fillna(-1)\n",
    "    data['comment'] = data['comment'].fillna('no comment')\n",
    "    data['comment_len_num'] = data['comment'].apply(len)\n",
    "    data['comment_word_num'] = data['comment'].apply(lambda x: len(x.split()))\n",
    "    data['comment_count_vec_num'] = count_vectorizer.fit_transform(data['comment']).sum(axis=1)\n",
    "    data['comment_tfidf_num'] = tfidf_vectorizer.fit_transform(data['comment']).sum(axis=1)\n",
    "    data['bot_num'] = data['bot'].apply(lambda x : 1 if x == True else 0)\n",
    "\n",
    "    return data\n",
    "\n",
    "data = preprocess(pd.read_csv(SAMPLE_FILE, parse_dates=['timestamp']))"
   ]
  },
  {
   "cell_type": "markdown",
   "metadata": {},
   "source": [
    "### Distribution between humans and bots in the sample dataset"
   ]
  },
  {
   "cell_type": "code",
   "execution_count": 16,
   "metadata": {},
   "outputs": [
    {
     "name": "stdout",
     "output_type": "stream",
     "text": [
      "bot\n",
      "False    30639\n",
      "True      9361\n",
      "Name: count, dtype: int64\n"
     ]
    },
    {
     "data": {
      "text/plain": [
       "<Axes: title={'center': 'True Bots vs Humans Samples'}, xlabel='bot'>"
      ]
     },
     "execution_count": 16,
     "metadata": {},
     "output_type": "execute_result"
    },
    {
     "data": {
      "image/png": "[encoded data removed]",
      "text/plain": [
       "<Figure size 800x550 with 1 Axes>"
      ]
     },
     "metadata": {},
     "output_type": "display_data"
    }
   ],
   "source": [
    "print(data['bot'].value_counts())\n",
    "data['bot'].value_counts().plot(kind='bar', title='True Bots vs Humans Samples', color=['green', 'red'])\n"
   ]
  },
  {
   "cell_type": "code",
   "execution_count": 13,
   "metadata": {},
   "outputs": [
    {
     "data": {
      "text/html": [
       "<div>\n",
       "<style scoped>\n",
       "    .dataframe tbody tr th:only-of-type {\n",
       "        vertical-align: middle;\n",
       "    }\n",
       "\n",
       "    .dataframe tbody tr th {\n",
       "        vertical-align: top;\n",
       "    }\n",
       "\n",
       "    .dataframe thead th {\n",
       "        text-align: right;\n",
       "    }\n",
       "</style>\n",
       "<table border=\"1\" class=\"dataframe\">\n",
       "  <thead>\n",
       "    <tr style=\"text-align: right;\">\n",
       "      <th></th>\n",
       "      <th>user</th>\n",
       "      <th>count</th>\n",
       "    </tr>\n",
       "  </thead>\n",
       "  <tbody>\n",
       "    <tr>\n",
       "      <th>0</th>\n",
       "      <td>Monkbot</td>\n",
       "      <td>5249</td>\n",
       "    </tr>\n",
       "    <tr>\n",
       "      <th>1</th>\n",
       "      <td>JJMC89 bot III</td>\n",
       "      <td>1060</td>\n",
       "    </tr>\n",
       "    <tr>\n",
       "      <th>2</th>\n",
       "      <td>WP 1.0 bot</td>\n",
       "      <td>516</td>\n",
       "    </tr>\n",
       "    <tr>\n",
       "      <th>3</th>\n",
       "      <td>WikiCleanerBot</td>\n",
       "      <td>324</td>\n",
       "    </tr>\n",
       "    <tr>\n",
       "      <th>4</th>\n",
       "      <td>Citation bot</td>\n",
       "      <td>205</td>\n",
       "    </tr>\n",
       "    <tr>\n",
       "      <th>...</th>\n",
       "      <td>...</td>\n",
       "      <td>...</td>\n",
       "    </tr>\n",
       "    <tr>\n",
       "      <th>68</th>\n",
       "      <td>SuggestBot</td>\n",
       "      <td>1</td>\n",
       "    </tr>\n",
       "    <tr>\n",
       "      <th>69</th>\n",
       "      <td>EnterpriseyBot</td>\n",
       "      <td>1</td>\n",
       "    </tr>\n",
       "    <tr>\n",
       "      <th>70</th>\n",
       "      <td>ImageTaggingBot</td>\n",
       "      <td>1</td>\n",
       "    </tr>\n",
       "    <tr>\n",
       "      <th>71</th>\n",
       "      <td>KiranBOT</td>\n",
       "      <td>1</td>\n",
       "    </tr>\n",
       "    <tr>\n",
       "      <th>72</th>\n",
       "      <td>YiFeiBot</td>\n",
       "      <td>1</td>\n",
       "    </tr>\n",
       "  </tbody>\n",
       "</table>\n",
       "<p>73 rows × 2 columns</p>\n",
       "</div>"
      ],
      "text/plain": [
       "               user  count\n",
       "0           Monkbot   5249\n",
       "1    JJMC89 bot III   1060\n",
       "2        WP 1.0 bot    516\n",
       "3    WikiCleanerBot    324\n",
       "4      Citation bot    205\n",
       "..              ...    ...\n",
       "68       SuggestBot      1\n",
       "69   EnterpriseyBot      1\n",
       "70  ImageTaggingBot      1\n",
       "71         KiranBOT      1\n",
       "72         YiFeiBot      1\n",
       "\n",
       "[73 rows x 2 columns]"
      ]
     },
     "execution_count": 13,
     "metadata": {},
     "output_type": "execute_result"
    }
   ],
   "source": [
    "all_bots = data[data['bot']==True].groupby('user').size().sort_values(ascending=False).reset_index(name='count')\n",
    "\n",
    "all_bots.head(80)"
   ]
  },
  {
   "cell_type": "code",
   "execution_count": 14,
   "metadata": {},
   "outputs": [
    {
     "data": {
      "image/png": "[encoded data removed]",
      "text/plain": [
       "<Figure size 1200x600 with 1 Axes>"
      ]
     },
     "metadata": {},
     "output_type": "display_data"
    }
   ],
   "source": [
    "plt.figure(figsize=(12, 6))\n",
    "plt.title('Top 20 Bot Users')\n",
    "plt.barh(all_bots['user'].head(20), all_bots['count'].head(20), color='red')\n",
    "plt.gca().invert_yaxis()  # Optional: To display the highest count at the top\n",
    "plt.xlabel('Count')\n",
    "plt.ylabel('User')\n",
    "plt.show()"
   ]
  },
  {
   "cell_type": "markdown",
   "metadata": {},
   "source": [
    "### Model training and evaluation"
   ]
  },
  {
   "cell_type": "code",
   "execution_count": 17,
   "metadata": {},
   "outputs": [
    {
     "name": "stdout",
     "output_type": "stream",
     "text": [
      "32000\n",
      "8000\n"
     ]
    }
   ],
   "source": [
    "\n",
    "y = data['bot_num']\n",
    "X = data[['user', 'comment_len_num', 'comment_word_num', 'comment_count_vec_num', \n",
    "          'comment_tfidf_num', 'namespace_num', 'hour_num'\n",
    "        ]]\n",
    "X_train, X_test, y_train, y_test = train_test_split(X, y, test_size=0.2)\n",
    "\n",
    "X_train_wo_user = X_train.drop(columns=['user'])\n",
    "X_test_wo_user = X_test.drop(columns=['user'])\n",
    "\n",
    "print(len(X_train))\n",
    "print(len(X_test))"
   ]
  },
  {
   "cell_type": "code",
   "execution_count": 18,
   "metadata": {},
   "outputs": [],
   "source": [
    "clf = RandomForestClassifier(max_depth=10, n_estimators=100, random_state=42)\n",
    "clf = clf.fit(X_train_wo_user, y_train)"
   ]
  },
  {
   "cell_type": "code",
   "execution_count": 19,
   "metadata": {},
   "outputs": [
    {
     "name": "stdout",
     "output_type": "stream",
     "text": [
      "Accuracy: 97.52%\n"
     ]
    }
   ],
   "source": [
    "accuracy = clf.score(X_test_wo_user, y_test)\n",
    "print(f\"Accuracy: {accuracy*100:.2f}%\")"
   ]
  },
  {
   "cell_type": "code",
   "execution_count": 20,
   "metadata": {},
   "outputs": [
    {
     "name": "stderr",
     "output_type": "stream",
     "text": [
      "/opt/conda/lib/python3.11/site-packages/sklearn/base.py:493: UserWarning: X does not have valid feature names, but RandomForestClassifier was fitted with feature names\n",
      "  warnings.warn(\n"
     ]
    },
    {
     "data": {
      "image/png": "[encoded data removed]",
      "text/plain": [
       "<Figure size 800x550 with 1 Axes>"
      ]
     },
     "metadata": {},
     "output_type": "display_data"
    },
    {
     "data": {
      "text/plain": [
       "<Axes: title={'center': 'Feature Importances of 6 Features using RandomForestClassifier'}, xlabel='relative importance'>"
      ]
     },
     "execution_count": 20,
     "metadata": {},
     "output_type": "execute_result"
    }
   ],
   "source": [
    "viz = FeatureImportances(clf)\n",
    "viz.fit(X_train_wo_user, y_train)\n",
    "viz.show()"
   ]
  },
  {
   "cell_type": "code",
   "execution_count": 21,
   "metadata": {},
   "outputs": [
    {
     "data": {
      "text/plain": [
       "<sklearn.metrics._plot.confusion_matrix.ConfusionMatrixDisplay at 0xffff477aa910>"
      ]
     },
     "execution_count": 21,
     "metadata": {},
     "output_type": "execute_result"
    },
    {
     "data": {
      "image/png": "[encoded data removed]",
      "text/plain": [
       "<Figure size 800x550 with 2 Axes>"
      ]
     },
     "metadata": {},
     "output_type": "display_data"
    }
   ],
   "source": [
    "y_pred = clf.predict(X_test_wo_user)\n",
    "ConfusionMatrixDisplay.from_predictions(y_test, y_pred, cmap=plt.cm.Greens)"
   ]
  },
  {
   "cell_type": "code",
   "execution_count": 22,
   "metadata": {},
   "outputs": [
    {
     "name": "stdout",
     "output_type": "stream",
     "text": [
      "Misclassified: 198\n",
      "FN: 183\n",
      "FP: 15\n"
     ]
    }
   ],
   "source": [
    "misclassified_indices = np.where(y_test != y_pred)[0]\n",
    "print('Misclassified:', len(misclassified_indices))\n",
    "FN = np.where((y_test == True) & (y_pred == False))[0]\n",
    "print('FN:', len(FN))\n",
    "FP = np.where((y_test == False) & (y_pred == True))[0]\n",
    "print('FP:', len(FP))\n"
   ]
  },
  {
   "cell_type": "markdown",
   "metadata": {},
   "source": [
    "## Finally, train a Bloom Filter that filter out bots from the stream.*\n",
    "- *Find the correct parameters for the bloom filter having an error around 10%*"
   ]
  },
  {
   "cell_type": "markdown",
   "metadata": {},
   "source": [
    "Bloom filter is characterized by:\n",
    "- size of a bit array ($m$)\n",
    "- number of hash functions\n",
    "\n",
    "where optimal $m$ can be calculated as:\n",
    "$$m=-\\frac{n*ln(p)}{ln(2)^{2}}$$\n",
    ",where n is a number of items (bots in our case)\\\n",
    "and number of hash functions as:\n",
    "$$k=\\frac{m}{n}ln(2)$$\n",
    "\n",
    "So, for the training to start we need to evaluate a number of bots from our sample."
   ]
  },
  {
   "cell_type": "markdown",
   "metadata": {},
   "source": [
    "### Definitions"
   ]
  },
  {
   "cell_type": "code",
   "execution_count": 23,
   "metadata": {},
   "outputs": [],
   "source": [
    "def count_unique_bots(users: Series, labels: Series) -> int:\n",
    "    \"\"\"\n",
    "    Counts the unique bot usernames given user names and their labels.\n",
    "    \n",
    "    Args:\n",
    "        users (Series): A pandas Series containing usernames.\n",
    "        labels (Series): A pandas Series with True for bot and False for human.\n",
    "        \n",
    "    Returns:\n",
    "        int: The count of unique bot usernames.\n",
    "    \"\"\"\n",
    "    bot_users = users[labels == True]\n",
    "    unique_bots_count = bot_users.nunique()\n",
    "    \n",
    "    return unique_bots_count"
   ]
  },
  {
   "cell_type": "code",
   "execution_count": 25,
   "metadata": {},
   "outputs": [],
   "source": [
    "def bloom_filter_params(n: int, p: float) -> tuple:\n",
    "    \"\"\"\n",
    "    Calculate bit size (m) and number of hash functions (k) for a Bloom filter.\n",
    "\n",
    "    Args:\n",
    "        n (int): Number of items expected to be stored.\n",
    "        p (float): Desired false positive rate.\n",
    "\n",
    "    Returns:\n",
    "        (int, int): Bit size (m) and number of hash functions (k).\n",
    "    \"\"\"\n",
    "    m = np.ceil(-n * np.log(p) / (np.log(2) ** 2))\n",
    "    k = np.ceil((m / n) * np.log(2))\n",
    "    \n",
    "    return m, k"
   ]
  },
  {
   "cell_type": "code",
   "execution_count": 26,
   "metadata": {},
   "outputs": [
    {
     "name": "stdout",
     "output_type": "stream",
     "text": [
      "for n=73 array size (m) is 350.0 bits, number of hash functions k is 4.0\n"
     ]
    }
   ],
   "source": [
    "p = 0.1  # 10% error rate\n",
    "\n",
    "n = count_unique_bots(data['user'], data['bot'])\n",
    "m, k = bloom_filter_params(n, p)\n",
    "\n",
    "print(f\"for n={n} array size (m) is {m} bits, number of hash functions k is {k}\")"
   ]
  },
  {
   "cell_type": "markdown",
   "metadata": {},
   "source": [
    "So, ~350.0 bits array and 3 hash functions are sufficient for the bloom filter in order to remember the population of 73 bots"
   ]
  },
  {
   "cell_type": "code",
   "execution_count": 27,
   "metadata": {},
   "outputs": [],
   "source": [
    "import hashlib\n",
    "\n",
    "def hashes(value, num_hashes, size):\n",
    "    h1 =  int(hashlib.md5(value.encode()).hexdigest(), 16) % size\n",
    "    h2 =  int(hashlib.sha256(value.encode()).hexdigest(), 16) % size\n",
    "    if h2 == 0:\n",
    "        h2 = 1\n",
    "    return [(h1 + i * h2) % size for i in range(num_hashes)]\n",
    "\n",
    "class BloomFilter:\n",
    "    def __init__(self, size: int, hash_count: int):\n",
    "        self.size = size\n",
    "        self.hash_count = hash_count\n",
    "        self.bit_array = [0] * size\n",
    "\n",
    "    def add(self, item: str):\n",
    "        for index in hashes(item, self.hash_count, self.size):\n",
    "            self.bit_array[index] = 1\n",
    "\n",
    "    def add_all(self, items: list):\n",
    "        for item in items:\n",
    "            self.add(item)\n",
    "\n",
    "    def contains(self, item: str) -> bool:\n",
    "        for index in hashes(item, self.hash_count, self.size):\n",
    "            if self.bit_array[index] == 0:\n",
    "                return False\n",
    "        return True\n",
    "    \n",
    "    def predict(self, data: Series) -> list:\n",
    "        \"\"\"\n",
    "        Predicts values based on data series.\n",
    "\n",
    "        Args:\n",
    "        - data (Series): The input data.\n",
    "\n",
    "        Returns:\n",
    "        - list: The list of bot predictions.\n",
    "        \"\"\"\n",
    "        predictions = []\n",
    "        for item in data:\n",
    "            predictions.append(self.contains(item))\n",
    "        \n",
    "        return predictions\n"
   ]
  },
  {
   "cell_type": "code",
   "execution_count": 28,
   "metadata": {},
   "outputs": [],
   "source": [
    "def fit_bloom_filter(data: Series, predictions: list, filter: BloomFilter) -> tuple[BloomFilter, list[str]]:\n",
    "    \"\"\"\n",
    "    Fits a Bloom filter with bot usernames based on predictions.\n",
    "\n",
    "    Args:\n",
    "    - data (DataFrame): The input data.\n",
    "    - predictions (list): The list of bot predictions.\n",
    "    - filter (BloomFilter): The Bloom filter object.\n",
    "\n",
    "    Returns:\n",
    "    - tuple[BloomFilter, list[str]]: The fitted Bloom filter object and the list of bot usernames.\n",
    "    \"\"\"\n",
    "    bot_usernames = data[predictions == 1]\n",
    "    for bot_username in bot_usernames:\n",
    "        filter.add(bot_username)\n",
    "    \n",
    "    return filter, bot_usernames"
   ]
  },
  {
   "cell_type": "markdown",
   "metadata": {},
   "source": [
    "### Fit & Evaluate Bloom Filter Performance"
   ]
  },
  {
   "cell_type": "markdown",
   "metadata": {},
   "source": [
    "#### Finding Predictions by means of the Random Forest Classifier on the full dataset"
   ]
  },
  {
   "cell_type": "code",
   "execution_count": 29,
   "metadata": {},
   "outputs": [
    {
     "name": "stdout",
     "output_type": "stream",
     "text": [
      "Accuracy: 97.71%\n"
     ]
    },
    {
     "data": {
      "text/plain": [
       "<sklearn.metrics._plot.confusion_matrix.ConfusionMatrixDisplay at 0xffff475a0450>"
      ]
     },
     "execution_count": 29,
     "metadata": {},
     "output_type": "execute_result"
    },
    {
     "data": {
      "image/png": "[encoded data removed]",
      "text/plain": [
       "<Figure size 800x550 with 2 Axes>"
      ]
     },
     "metadata": {},
     "output_type": "display_data"
    }
   ],
   "source": [
    "y_pred_full = clf.predict(X.drop(columns=['user']))\n",
    "print(f\"Accuracy: {np.mean(y == y_pred_full)*100:.2f}%\")\n",
    "ConfusionMatrixDisplay.from_predictions(y, y_pred_full, cmap=plt.cm.Greens)"
   ]
  },
  {
   "cell_type": "code",
   "execution_count": 30,
   "metadata": {},
   "outputs": [
    {
     "name": "stdout",
     "output_type": "stream",
     "text": [
      "              precision    recall  f1-score   support\n",
      "\n",
      "           0       0.97      1.00      0.99     30639\n",
      "           1       0.99      0.91      0.95      9361\n",
      "\n",
      "    accuracy                           0.98     40000\n",
      "   macro avg       0.98      0.95      0.97     40000\n",
      "weighted avg       0.98      0.98      0.98     40000\n",
      "\n"
     ]
    }
   ],
   "source": [
    "print(classification_report(y, y_pred_full))"
   ]
  },
  {
   "cell_type": "markdown",
   "metadata": {},
   "source": [
    "#### Fitting Random Forest Classifier predictions into Bloom Filter"
   ]
  },
  {
   "cell_type": "code",
   "execution_count": 39,
   "metadata": {},
   "outputs": [],
   "source": [
    "p = 0.1  # 10% error rate\n",
    "n = count_unique_bots(data['user'], data['bot'])\n",
    "m, k = bloom_filter_params(n, p)\n",
    "global bloom_filter\n",
    "bloom_filter  = BloomFilter(int(m), int(k))\n",
    "bloom_filter, bot_usernames = fit_bloom_filter(X['user'], y_pred_full, bloom_filter)"
   ]
  },
  {
   "cell_type": "markdown",
   "metadata": {},
   "source": [
    "#### Evaluating the performance of the Bloom Filter on the full dataset"
   ]
  },
  {
   "cell_type": "code",
   "execution_count": 40,
   "metadata": {},
   "outputs": [
    {
     "name": "stdout",
     "output_type": "stream",
     "text": [
      "Accuracy: 87.32%\n"
     ]
    },
    {
     "data": {
      "text/plain": [
       "<sklearn.metrics._plot.confusion_matrix.ConfusionMatrixDisplay at 0xffff45bad350>"
      ]
     },
     "execution_count": 40,
     "metadata": {},
     "output_type": "execute_result"
    },
    {
     "data": {
      "image/png": "[encoded data removed]",
      "text/plain": [
       "<Figure size 800x550 with 2 Axes>"
      ]
     },
     "metadata": {},
     "output_type": "display_data"
    }
   ],
   "source": [
    "y_pred_bf = bloom_filter.predict(X['user'])\n",
    "print(f\"Accuracy: {np.mean(y == y_pred_bf)*100:.2f}%\")\n",
    "ConfusionMatrixDisplay.from_predictions(y, y_pred_bf, cmap=plt.cm.Greens)    "
   ]
  },
  {
   "cell_type": "code",
   "execution_count": 33,
   "metadata": {},
   "outputs": [
    {
     "name": "stdout",
     "output_type": "stream",
     "text": [
      "              precision    recall  f1-score   support\n",
      "\n",
      "           0       1.00      0.84      0.91     30639\n",
      "           1       0.65      0.99      0.78      9361\n",
      "\n",
      "    accuracy                           0.87     40000\n",
      "   macro avg       0.82      0.91      0.85     40000\n",
      "weighted avg       0.91      0.87      0.88     40000\n",
      "\n"
     ]
    }
   ],
   "source": [
    "print(classification_report(y, y_pred_bf))"
   ]
  },
  {
   "cell_type": "markdown",
   "metadata": {},
   "source": [
    "Despite the Bloom Filter being configured to allow an approximate 10% error (due to its bit array size), combined with the prediction errors introduced by the Random Forest Classifier, the significant advantage of the Bloom Filter lies in its ability to minimize False Negatives. This is likely the primary purpose of the filter.\n",
    "\n",
    "Also, the True Positive rate saw a notable improvement, resulting in an increase in overall recall from 91% to 99%. This enhancement reflects the filter strength in ensuring high sensitivity.\n",
    "\n",
    "However, this improvement comes at the cost of an increased rate of False Positives. This is a known and expected trade-off when using a Bloom Filter. Nevertheless, these False Positives can be mitigated or managed through subsequent processing steps, ensuring that the benefits outweigh the drawbacks in the broader application."
   ]
  },
  {
   "cell_type": "markdown",
   "metadata": {},
   "source": [
    "## Spark Streaming\n",
    "\n",
    "Spark structured streaming approach. For the sake of simplicity, a simple http-to-socket server is leveraged instead of kafka instance (a cell below)"
   ]
  },
  {
   "cell_type": "code",
   "execution_count": null,
   "metadata": {},
   "outputs": [],
   "source": [
    "import socket\n",
    "import requests\n",
    "import json\n",
    "from datetime import datetime, timedelta\n",
    "\n",
    "# Wikimedia Recent Changes Stream URL\n",
    "past_datetime = datetime.now() - timedelta(weeks=2)\n",
    "since_timestamp = int(past_datetime.timestamp() * 1000)\n",
    "URL = f'https://stream.wikimedia.org/v2/stream/recentchange?since={since_timestamp}'\n",
    "\n",
    "# Socket configuration\n",
    "HOST = \"localhost\"\n",
    "PORT = 9991\n",
    "\n",
    "def stream_to_socket():\n",
    "    # Create a socket server\n",
    "    with socket.socket(socket.AF_INET, socket.SOCK_STREAM) as server_socket:\n",
    "        server_socket.bind((HOST, PORT))\n",
    "        server_socket.listen(1)\n",
    "        print(f\"Socket server started at {HOST}:{PORT}, waiting for connection...\")\n",
    "\n",
    "        conn, addr = server_socket.accept()\n",
    "        print(f\"Connection established with {addr}\")\n",
    "\n",
    "        # Open the HTTP stream\n",
    "        with requests.get(URL, stream=True) as response:\n",
    "            for line in response.iter_lines():\n",
    "                if line and line.startswith(b'data:'):  # Filter lines containing event data\n",
    "                    try:\n",
    "                        event = json.loads(line[5:])  # Remove \"data:\" prefix and parse JSON\n",
    "                        conn.sendall((json.dumps(event) + \"\\n\").encode(\"utf-8\"))\n",
    "                    except json.JSONDecodeError:\n",
    "                        continue\n",
    "\n",
    "if __name__ == \"__main__\":\n",
    "    stream_to_socket()"
   ]
  },
  {
   "cell_type": "markdown",
   "metadata": {},
   "source": [
    "Streaming"
   ]
  },
  {
   "cell_type": "code",
   "execution_count": null,
   "metadata": {},
   "outputs": [
    {
     "name": "stdout",
     "output_type": "stream",
     "text": [
      "\n",
      "Processed 7641 items\n",
      "\n",
      "Processed 7641 items\n",
      "\n",
      "Processed 7641 items\n",
      "\n",
      "Processed 7641 items\n",
      "\n",
      "Processed 7641 items\n",
      "\n",
      "Processed 7641 items\n",
      "\n",
      "Processed 7641 items\n",
      "\n",
      "Processed 7641 items\n",
      "\n",
      "Processed 7641 items\n",
      "\n",
      "Processed 7641 items\n",
      "\n",
      "Processed 7641 items\n"
     ]
    }
   ],
   "source": [
    "from pyspark.sql import SparkSession\n",
    "from pyspark.sql.functions import col, from_json, udf\n",
    "from pyspark.sql.types import StructType, StructField, StringType, IntegerType, BooleanType, LongType\n",
    "import os\n",
    "from threading import Thread\n",
    "import time\n",
    "\n",
    "ITEM_LIMIT = 40000\n",
    "\n",
    "# Initialize Spark session\n",
    "spark = SparkSession.builder \\\n",
    "    .appName(\"WikiEditSampler\") \\\n",
    "    .getOrCreate()\n",
    "\n",
    "processed_count = spark.sparkContext.accumulator(0)  # Accumulator to track processed count\n",
    "\n",
    "# Define event schema\n",
    "event_schema = StructType([\n",
    "    StructField(\"type\", StringType(), True),\n",
    "    StructField(\"wiki\", StringType(), True),\n",
    "    StructField(\"bot\", BooleanType(), True),\n",
    "    StructField(\"user\", StringType(), True),\n",
    "    StructField(\"timestamp\", LongType(), True),\n",
    "    StructField(\"namespace\", IntegerType(), True),\n",
    "    StructField(\"title\", StringType(), True),\n",
    "    StructField(\"comment\", StringType(), True),\n",
    "    StructField(\"length\", StructType([\n",
    "        StructField(\"old\", IntegerType(), True),\n",
    "        StructField(\"new\", IntegerType(), True)\n",
    "    ])),\n",
    "    StructField(\"revision\", StructType([\n",
    "        StructField(\"old\", StringType(), True),\n",
    "        StructField(\"new\", StringType(), True)\n",
    "    ])),\n",
    "    StructField(\"id\", StringType(), True)\n",
    "])\n",
    "\n",
    "# Define UDFs\n",
    "def is_relevant_event_udf(wiki: str):\n",
    "    def is_relevant_event(event_type: str, event_wiki: str) -> bool:\n",
    "        return event_type == \"edit\" and event_wiki == wiki\n",
    "    return udf(is_relevant_event, BooleanType())\n",
    "\n",
    "def should_sample_event_udf():\n",
    "    global bloom_filter\n",
    "    def should_sample_event(value: str) -> bool:\n",
    "        if not value:\n",
    "            return False\n",
    "        return bloom_filter.contains(value)\n",
    "    return udf(should_sample_event, BooleanType())\n",
    "\n",
    "# Custom function to append each batch to a single CSV file\n",
    "def write_to_single_csv(batch_df: DataFrame, batch_id: int):\n",
    "    global processed_count\n",
    "    \n",
    "    # Count items in the current batch\n",
    "    batch_count = batch_df.count()\n",
    "    \n",
    "    # Update the global processed count\n",
    "    processed_count.add(batch_count)\n",
    "    \n",
    "    pdf = batch_df.toPandas()\n",
    "    csv_file = \"./sampled_events_id_spark.csv\"\n",
    "    pdf.to_csv(csv_file, mode='a', header=not os.path.exists(csv_file), index=False)\n",
    "\n",
    "    # Check if the limit has been reached\n",
    "    if processed_count.value >= ITEM_LIMIT:\n",
    "        print(f\"Limit of {ITEM_LIMIT} items reached. Stopping query.\")\n",
    "        for active_query in spark.streams.active:\n",
    "            active_query.stop()\n",
    "\n",
    "# Read streaming data from the socket\n",
    "input_stream = spark.readStream \\\n",
    "    .format(\"socket\") \\\n",
    "    .option(\"host\", \"localhost\") \\\n",
    "    .option(\"port\", 9998) \\\n",
    "    .load()\n",
    "\n",
    "# Parse JSON data\n",
    "parsed_stream = input_stream \\\n",
    "    .selectExpr(\"CAST(value AS STRING) AS json_data\") \\\n",
    "    .select(from_json(col(\"json_data\"), event_schema).alias(\"data\")) \\\n",
    "    .select(\"data.*\")\n",
    "\n",
    "# Apply filters and sampling logic\n",
    "relevant_stream = parsed_stream \\\n",
    "    .filter(is_relevant_event_udf(\"enwiki\")(col(\"type\"), col(\"wiki\"))) \\\n",
    "    .filter(should_sample_event_udf()(col(\"user\")))\n",
    "\n",
    "# Write the sampled events to CSV\n",
    "query = relevant_stream.select(\n",
    "    col(\"bot\"), col(\"user\"), col(\"timestamp\"), col(\"namespace\"),\n",
    "    col(\"title\"), col(\"comment\"), col(\"length.old\").alias(\"length_old\"),\n",
    "    col(\"length.new\").alias(\"length_new\"), col(\"revision.old\").alias(\"revision_old\"),\n",
    "    col(\"revision.new\").alias(\"revision_new\")\n",
    ").writeStream \\\n",
    "    .foreachBatch(write_to_single_csv) \\\n",
    "    .outputMode(\"append\") \\\n",
    "    .start()\n",
    "\n",
    "def show_progress(query):\n",
    "    global processed_count\n",
    "\n",
    "    while query.isActive:\n",
    "        if query.lastProgress:\n",
    "            print(f\"\\nProcessed {processed_count} items\")            \n",
    "        time.sleep(5)  # Adjust interval as needed\n",
    "\n",
    "# Run the progress display in a separate thread\n",
    "progress_thread = Thread(target=show_progress, args=(query,), daemon=True)\n",
    "progress_thread.start()\n",
    "\n",
    "# Await termination\n",
    "query.awaitTermination()\n"
   ]
  },
  {
   "cell_type": "code",
   "execution_count": null,
   "metadata": {},
   "outputs": [],
   "source": []
  }
 ],
 "metadata": {
  "kernelspec": {
   "display_name": "Python 3 (ipykernel)",
   "language": "python",
   "name": "python3"
  }
 },
 "nbformat": 4,
 "nbformat_minor": 2
}

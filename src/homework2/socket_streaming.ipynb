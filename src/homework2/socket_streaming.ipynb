{
 "cells": [
  {
   "cell_type": "markdown",
   "metadata": {},
   "source": [
    "A simple socket bridge to a streaming interface"
   ]
  },
  {
   "cell_type": "code",
   "execution_count": null,
   "metadata": {},
   "outputs": [],
   "source": [
    "import socket\n",
    "import requests\n",
    "import json\n",
    "from datetime import datetime, timedelta\n",
    "\n",
    "# Wikimedia Recent Changes Stream URL\n",
    "past_datetime = datetime.now() - timedelta(weeks=3)\n",
    "since_timestamp = int(past_datetime.timestamp() * 1000)\n",
    "URL = f'https://stream.wikimedia.org/v2/stream/recentchange?since={since_timestamp}'\n",
    "\n",
    "# Socket configuration\n",
    "HOST = \"localhost\"\n",
    "PORT = 9998\n",
    "\n",
    "def stream_to_socket():\n",
    "    # Create a socket server\n",
    "    with socket.socket(socket.AF_INET, socket.SOCK_STREAM) as server_socket:\n",
    "        server_socket.bind((HOST, PORT))\n",
    "        server_socket.listen(1)\n",
    "        print(f\"Socket server started at {HOST}:{PORT}, waiting for connection...\")\n",
    "\n",
    "        conn, addr = server_socket.accept()\n",
    "        print(f\"Connection established with {addr}\")\n",
    "\n",
    "        # Open the HTTP stream\n",
    "        with requests.get(URL, stream=True) as response:\n",
    "            for line in response.iter_lines():\n",
    "                if line and line.startswith(b'data:'):  # Filter lines containing event data\n",
    "                    try:\n",
    "                        event = json.loads(line[5:])  # Remove \"data:\" prefix and parse JSON\n",
    "                        conn.sendall((json.dumps(event) + \"\\n\").encode(\"utf-8\"))\n",
    "                    except json.JSONDecodeError:\n",
    "                        continue\n",
    "\n",
    "if __name__ == \"__main__\":\n",
    "    stream_to_socket()\n"
   ]
  }
 ],
 "metadata": {
  "kernelspec": {
   "display_name": "Python 3 (ipykernel)",
   "language": "python",
   "name": "python3"
  },
  "language_info": {
   "codemirror_mode": {
    "name": "ipython",
    "version": 3
   },
   "file_extension": ".py",
   "mimetype": "text/x-python",
   "name": "python",
   "nbconvert_exporter": "python",
   "pygments_lexer": "ipython3",
   "version": "3.11.6"
  }
 },
 "nbformat": 4,
 "nbformat_minor": 2
}
